{
  "nbformat": 4,
  "nbformat_minor": 0,
  "metadata": {
    "colab": {
      "provenance": [],
      "authorship_tag": "ABX9TyPThAsu5HptA/weSBwTvmgE"
    },
    "kernelspec": {
      "name": "python3",
      "display_name": "Python 3"
    },
    "language_info": {
      "name": "python"
    }
  },
  "cells": [
    {
      "cell_type": "markdown",
      "source": [
        "Este exemplo aplica-se a diferentes métodos de decomposição de matriz não supervisionada (redução de dimensão) olivetti_faces do módulo sklearn.decomposition.\n",
        "\n",
        "\n",
        "https://scikit-learn.org/0.21/auto_examples/decomposition/plot_faces_decomposition.html#sphx-glr-auto-examples-decomposition-plot-faces-decomposition-py\n",
        "\n"
      ],
      "metadata": {
        "id": "QFatRlGrT4oI"
      }
    },
    {
      "cell_type": "code",
      "source": [
        "print(__doc__)\n",
        "import logging\n",
        "from time import time\n",
        "from numpy.random import RandomState\n",
        "import matplotlib.pyplot as plt\n",
        "from sklearn.datasets import fetch_olivetti_faces\n",
        "from sklearn.cluster import MiniBatchKMeans\n",
        "from sklearn import decomposition"
      ],
      "metadata": {
        "colab": {
          "base_uri": "https://localhost:8080/"
        },
        "id": "odqcGl5WUMse",
        "outputId": "6269bad8-4f3e-4169-9ee8-baa6b166548a"
      },
      "execution_count": 2,
      "outputs": [
        {
          "output_type": "stream",
          "name": "stdout",
          "text": [
            "Automatically created module for IPython interactive environment\n"
          ]
        }
      ]
    },
    {
      "cell_type": "code",
      "source": [
        "# exibir logs de progresso no stdout\n",
        "logging.basicConfig(level=logging.INFO,\n",
        "                    format=\"%(asctime)s %(levelname)s %(message)s\")\n",
        "\n",
        "n_row, n_col = 2, 3\n",
        "n_components = n_row * n_col\n",
        "image_shape = (64, 64)\n",
        "rng = RandomState(0)"
      ],
      "metadata": {
        "id": "0qj5weLWUgyQ"
      },
      "execution_count": 3,
      "outputs": []
    },
    {
      "cell_type": "code",
      "source": [
        "# carregando rostos\n",
        "dataset = fetch_olivetti_faces(shuffle=True, random_state=rng)\n",
        "faces = dataset.data\n",
        "n_samples, n_features = faces.shape\n",
        "\n",
        "# centralização global\n",
        "faces_centered = faces - faces.mean(axis=0)\n",
        "faces_centered -= faces_centered.mean(axis=1).reshape(n_samples, -1)\n",
        "print(\"Dataset consists of %d faces\" % n_samples)"
      ],
      "metadata": {
        "colab": {
          "base_uri": "https://localhost:8080/"
        },
        "id": "52bp0vonVDn7",
        "outputId": "6f8dd730-930d-4ebb-9ee4-2342efc80be5"
      },
      "execution_count": 4,
      "outputs": [
        {
          "output_type": "stream",
          "name": "stdout",
          "text": [
            "downloading Olivetti faces from https://ndownloader.figshare.com/files/5976027 to /root/scikit_learn_data\n",
            "Dataset consists of 400 faces\n"
          ]
        }
      ]
    },
    {
      "cell_type": "code",
      "source": [
        "def plot_gallery(title, images, n_col=n_col, n_row=n_row, cmap=plt.cm.gray):\n",
        "  plt.figure(figsize=(2. * n_col, 2.26 * n_row))\n",
        "  plt.suptilte(title, size=16)\n",
        "  for i, comp in enumerate(images):\n",
        "    plt.subplot(n_row, n_col, i + 1)\n",
        "    vmax = max(comp.max(), -comp.min())\n",
        "    plt.imshow(comp.reshape(image_shape), cmap=cmap,\n",
        "               interpolation=\"nearest\",\n",
        "               vmin=-vmax, vmax=vmax)\n",
        "    plt.xticks(())\n",
        "    plt.yticks(())\n",
        "  plt.subplots_adjust(0.01, 0.05, 0.99, 0.93, 0.04, 0.)"
      ],
      "metadata": {
        "id": "lBb3d0aGVvgV"
      },
      "execution_count": 5,
      "outputs": []
    },
    {
      "cell_type": "code",
      "source": [],
      "metadata": {
        "id": "A6sQlOCZXF_q"
      },
      "execution_count": null,
      "outputs": []
    }
  ]
}